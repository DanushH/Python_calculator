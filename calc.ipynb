{
  "nbformat": 4,
  "nbformat_minor": 0,
  "metadata": {
    "colab": {
      "provenance": []
    },
    "kernelspec": {
      "name": "python3",
      "display_name": "Python 3"
    },
    "language_info": {
      "name": "python"
    }
  },
  "cells": [
    {
      "cell_type": "code",
      "execution_count": null,
      "metadata": {
        "id": "7RQXx-6g8vqE"
      },
      "outputs": [],
      "source": [
        "import math\n",
        "import sympy\n",
        "from sympy import symbols\n",
        "from sympy.solvers import solve\n",
        "\n",
        "\n",
        "def calculate_basics(operator, n1, n2):\n",
        "    if operator == '+':\n",
        "        return f'{n1} + {n2} = {n1 + n2}'\n",
        "    elif operator == '-':\n",
        "        return f'{n1} - {n2} = {n1 - n2}'\n",
        "    elif operator == '*':\n",
        "        return f'{n1} * {n2} = {n1 * n2}'\n",
        "    elif operator == '/':\n",
        "        n1, n2 = float(n1), float(n2)\n",
        "        quotient = round((n1 / n2), 2)\n",
        "        return f'{n1} / {n2} = {quotient}'\n",
        "\n",
        "\n",
        "def detect_prime(number):\n",
        "    if number == 2:\n",
        "        return \"2 is a prime number\"\n",
        "\n",
        "    prime_or_comp = \"prime\"\n",
        "\n",
        "    for test_number in range(2, number):\n",
        "        if number % test_number == 0:\n",
        "            prime_or_comp = \"composite\"\n",
        "\n",
        "    return f'{number} is a {prime_or_comp} number'\n",
        "\n",
        "\n",
        "def calculate_prime_factors(number):\n",
        "    num = number\n",
        "    arr = []\n",
        "\n",
        "    while number % 2 == 0:\n",
        "        arr.append(2)\n",
        "        number = int(number / 2)\n",
        "\n",
        "    for i in range(3, int(math.sqrt(number))+1, 2):\n",
        "        while number % i== 0:\n",
        "            arr.append(i),\n",
        "            number = number / i\n",
        "\n",
        "    if number > 2:\n",
        "        arr.append(number)\n",
        "\n",
        "    st = ', '.join(str(x) for x in arr)\n",
        "\n",
        "    return f'Prime factors of {num} are {st}'\n",
        "\n",
        "\n",
        "def factor_square_root(n):\n",
        "    upper_limit = math.floor(math.sqrt(n)) + 1\n",
        "    max_factor = 1\n",
        "    other_factor = 1\n",
        "    square_root = 1\n",
        "\n",
        "    for maybe_factor in range(1, upper_limit):\n",
        "        if n % (maybe_factor**2) == 0:\n",
        "            max_factor = maybe_factor**2\n",
        "\n",
        "    other_factor = n/max_factor\n",
        "\n",
        "    square_root = int(math.sqrt(max_factor))\n",
        "    other_factor = int(other_factor)\n",
        "    output = square_root*sympy.sqrt(other_factor)\n",
        "\n",
        "    return f'factor of square root({int(n)}) = {output}'\n",
        "\n",
        "\n",
        "def solve_x(eq):\n",
        "    x = symbols('x')\n",
        "    return f'x = {solve(eq,x)[0]}'\n",
        "\n"
      ]
    },
    {
      "cell_type": "code",
      "source": [
        "def menu():\n",
        "    print(\"1 Add,subtract,multiply,divide \\n2 Detect prime numbers \\n3 Generate prime factors of a number \\n4 Simplify square roots \\n5 Solve for a variable\")\n",
        "    option = int(input(\"\\nSelect option number: \"))\n",
        "\n",
        "    if option == 1:\n",
        "        op = input('Enter operator: ')\n",
        "        first = int(input('Enter first number: '))\n",
        "        second = int(input('Enter second number: '))\n",
        "        answer = calculate_basics(op, first, second)\n",
        "        print(answer)\n",
        "\n",
        "    elif option == 2:\n",
        "        number = int(input('Enter a positive integer: '))\n",
        "        answer = detect_prime(number)\n",
        "        print(answer)\n",
        "\n",
        "    elif option == 3:\n",
        "        number = int(input('Enter a positive integer: '))\n",
        "        answer = calculate_prime_factors(number)\n",
        "        print(answer)\n",
        "\n",
        "    elif option == 4:\n",
        "        number = float(input('Enter a number: '))\n",
        "        answer = factor_square_root(number)\n",
        "        print(answer)\n",
        "\n",
        "    elif option == 5:\n",
        "        eq = input('Enter an equation to solve for x: 0 = ')\n",
        "        answer = solve_x(eq)\n",
        "        print(answer)\n",
        "\n",
        "    ans = input(\"\\nDo you wish to continue? Enter Y for yes, N for no. \\n\")\n",
        "    ans = ans.lower()\n",
        "    while (ans == 'y'):\n",
        "        menu()\n",
        "    if ans == 'n':\n",
        "        print(\"Exit\")\n"
      ],
      "metadata": {
        "id": "JJ9EaaOi9Co4"
      },
      "execution_count": null,
      "outputs": []
    },
    {
      "cell_type": "code",
      "source": [
        "menu()\n"
      ],
      "metadata": {
        "colab": {
          "base_uri": "https://localhost:8080/"
        },
        "id": "E2d1V0vBUigg",
        "outputId": "308a2f5a-9fcb-43b5-bada-b42005ae339e"
      },
      "execution_count": null,
      "outputs": [
        {
          "output_type": "stream",
          "name": "stdout",
          "text": [
            "1 Add,subtract,multiply,divide \n",
            "2 Detect prime numbers \n",
            "3 Generate prime factors of a number \n",
            "4 Simplify square roots \n",
            "5 Solve for a variable\n",
            "\n",
            "Select option number: 1\n",
            "Enter operator: +\n",
            "Enter first number: 23\n",
            "Enter second number: 35\n",
            "23 + 35 = 58\n",
            "\n",
            "Do you wish to continue? Enter Y for yes, N for no. \n",
            "n\n",
            "Exit\n"
          ]
        }
      ]
    }
  ]
}